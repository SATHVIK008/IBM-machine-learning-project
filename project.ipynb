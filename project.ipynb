{
  "nbformat": 4,
  "nbformat_minor": 0,
  "metadata": {
    "colab": {
      "provenance": []
    },
    "kernelspec": {
      "name": "python3",
      "display_name": "Python 3"
    },
    "language_info": {
      "name": "python"
    }
  },
  "cells": [
    {
      "cell_type": "markdown",
      "source": [
        "# **My Jupyter Notebook on IBM Data Science Experience**"
      ],
      "metadata": {
        "id": "W4H0ozpllXxH"
      }
    },
    {
      "cell_type": "markdown",
      "source": [
        "I am interested in data science because I love telling stories with data and using data to help bring that data to life.I love helping others. In data science that could be helping a business understand its customers or improving the way it uses its customer data."
      ],
      "metadata": {
        "id": "94RYWCzUlhEE"
      }
    },
    {
      "cell_type": "markdown",
      "source": [
        "**Division in Python : When you divide in Python 3, your quotient will always be returned as a float, even if you use two integers:**"
      ],
      "metadata": {
        "id": "x8cgRtmIllBu"
      }
    },
    {
      "cell_type": "code",
      "source": [
        "80/5"
      ],
      "metadata": {
        "colab": {
          "base_uri": "https://localhost:8080/"
        },
        "id": "N_9481jSle88",
        "outputId": "b5d241e5-425b-4b2e-8745-2693cf5e106a"
      },
      "execution_count": 1,
      "outputs": [
        {
          "output_type": "execute_result",
          "data": {
            "text/plain": [
              "16.0"
            ]
          },
          "metadata": {},
          "execution_count": 1
        }
      ]
    },
    {
      "cell_type": "markdown",
      "source": [
        "This is a Bullet Point\n",
        "Below this line is a Horizontal Rule\n",
        "\n",
        "This is a Numbered List\n",
        "Here is a Sample Markdown Table ->\n",
        "\n",
        "---\n",
        "\n"
      ],
      "metadata": {
        "id": "6aWnQLR1lrRq"
      }
    },
    {
      "cell_type": "markdown",
      "source": [
        "\n",
        "Name\tAddress\tSalary\n",
        "Stacy\tSydney\t500"
      ],
      "metadata": {
        "id": "jx9R9pdqls3W"
      }
    },
    {
      "cell_type": "code",
      "source": [
        "# Code & Syntax Highlighting in Python\n",
        "import antigravity"
      ],
      "metadata": {
        "id": "RW9fiJMXl4jb"
      },
      "execution_count": 2,
      "outputs": []
    },
    {
      "cell_type": "markdown",
      "source": [
        "\n",
        "\n",
        "> This is a Block quote\n",
        "\n"
      ],
      "metadata": {
        "id": "YE8QGvB5l8pU"
      }
    },
    {
      "cell_type": "markdown",
      "source": [
        "Erase your mistakes using strike-through like this."
      ],
      "metadata": {
        "id": "MnOU5HhZmEBm"
      }
    },
    {
      "cell_type": "code",
      "source": [],
      "metadata": {
        "id": "xnxUGFkjl52L"
      },
      "execution_count": null,
      "outputs": []
    }
  ]
}